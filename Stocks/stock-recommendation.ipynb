{
 "cells": [
  {
   "cell_type": "code",
   "execution_count": 1,
   "id": "87196de8",
   "metadata": {},
   "outputs": [],
   "source": [
    "# pipenv install yfinance==0.2.44 crewai==0.70.1 crewai-tools=0.12.1 langchain==0.2.16 langchain-community==0.2.17 langchain-openai==0.1.25 duckduckgo_search==6.3.0 ipykernel"
   ]
  },
  {
   "cell_type": "code",
   "execution_count": 14,
   "id": "e46f0a9b",
   "metadata": {},
   "outputs": [],
   "source": [
    "import json\n",
    "import os\n",
    "from datetime import datetime, timedelta\n",
    "\n",
    "from crewai import Agent, Task, Crew, Process\n",
    "\n",
    "from langchain_openai import ChatOpenAI\n",
    "from langchain.tools import Tool\n",
    "from crewai_tools import CSVSearchTool\n",
    "\n",
    "import yfinance as yf"
   ]
  },
  {
   "cell_type": "code",
   "execution_count": null,
   "id": "c1096e43",
   "metadata": {},
   "outputs": [],
   "source": [
    "os.environ['OPENAI_API_KEY'] = \"OPENAI_API_KEY\"\n",
    "llm = ChatOpenAI(model='gpt-3.5-turbo')"
   ]
  },
  {
   "cell_type": "code",
   "execution_count": 4,
   "id": "d65cda28",
   "metadata": {},
   "outputs": [
    {
     "name": "stderr",
     "output_type": "stream",
     "text": [
      "c:\\Users\\felipe.fardo\\.virtualenvs\\ai-agents-crew-ai--UwK1Ags\\Lib\\site-packages\\crewai_tools\\tools\\base_tool.py:93: PydanticDeprecatedSince20: The `schema` method is deprecated; use `model_json_schema` instead. Deprecated in Pydantic V2.0 to be removed in V3.0. See Pydantic V2 Migration Guide at https://errors.pydantic.dev/2.11/migration/\n",
      "  for arg, attribute in self.args_schema.schema()[\"properties\"].items():\n"
     ]
    }
   ],
   "source": [
    "csvWalletTool = CSVSearchTool(csv='./Wallet/wallet.csv')"
   ]
  },
  {
   "cell_type": "code",
   "execution_count": 5,
   "id": "0382ca1f",
   "metadata": {},
   "outputs": [
    {
     "name": "stderr",
     "output_type": "stream",
     "text": [
      "c:\\Users\\felipe.fardo\\.virtualenvs\\ai-agents-crew-ai--UwK1Ags\\Lib\\site-packages\\langchain_core\\tools\\structured.py:54: PydanticDeprecatedSince20: The `schema` method is deprecated; use `model_json_schema` instead. Deprecated in Pydantic V2.0 to be removed in V3.0. See Pydantic V2 Migration Guide at https://errors.pydantic.dev/2.11/migration/\n",
      "  return self.args_schema.schema()[\"properties\"]\n"
     ]
    }
   ],
   "source": [
    "customerManager = Agent(\n",
    "  role=\"Customer Stocks Manager\",\n",
    "  goal=\"Get the customer question about the stock {ticket} and search the customer wallet CSV file for the stocks.\",\n",
    "  backstory=\"\"\"You're the manager of the customer investiment wallet.\n",
    "  You are the client first contact and you provide the other analystis with the necessary stock tocket and wallet information\n",
    "  \"\"\",\n",
    "  verbose=True,\n",
    "  llm=llm,\n",
    "  max_iter=5,\n",
    "  tools=[csvWalletTool],\n",
    "  allow_delegation=False,\n",
    "  memory=True\n",
    ")"
   ]
  },
  {
   "cell_type": "code",
   "execution_count": 6,
   "id": "e720c987",
   "metadata": {},
   "outputs": [],
   "source": [
    "getCustomerWallet = Task(\n",
    "  description=\"\"\"Use the customer question and find the {ticket} in the CSV File.\n",
    "  Provide if the stock is in the customer wallet and if it is, provide with the mean price he paid\n",
    "  and the total numbers of stocks owned.\n",
    "  \"\"\",\n",
    "  expected_output=\"If the customer own the stocks, provide the mean price paid and the total stock numbers\",\n",
    "  agent=customerManager\n",
    ")"
   ]
  },
  {
   "cell_type": "code",
   "execution_count": 7,
   "id": "a3012238",
   "metadata": {},
   "outputs": [
    {
     "name": "stderr",
     "output_type": "stream",
     "text": [
      "c:\\Users\\felipe.fardo\\.virtualenvs\\ai-agents-crew-ai--UwK1Ags\\Lib\\site-packages\\langchain_core\\tools\\structured.py:54: PydanticDeprecatedSince20: The `schema` method is deprecated; use `model_json_schema` instead. Deprecated in Pydantic V2.0 to be removed in V3.0. See Pydantic V2 Migration Guide at https://errors.pydantic.dev/2.11/migration/\n",
      "  return self.args_schema.schema()[\"properties\"]\n"
     ]
    }
   ],
   "source": [
    "stocketPriceAnalyst = Agent(\n",
    "  role=\"Senior Stock Analyst\",\n",
    "  goal=\"Find the {ticket} stock price and analyses price trends. Compre with the price that the customer paid.\",\n",
    "  backstory=\"\"\"You're a highly experienced in analyzing the price of specific stocks and make predictions about its future price;\"\"\",\n",
    "  verbose=True,\n",
    "  llm=llm,\n",
    "  max_iter=5,\n",
    "  tools=[csvWalletTool],\n",
    "  allow_delegation=False,\n",
    "  memory=True\n",
    ")"
   ]
  },
  {
   "cell_type": "code",
   "execution_count": 17,
   "id": "017bdb1a",
   "metadata": {},
   "outputs": [],
   "source": [
    "# Criando Yahoo Finance Tool\n",
    "def fetch_stock_price(ticket):\n",
    "  end_date = datetime.today()\n",
    "  start_date = end_date - timedelta(days=365)\n",
    "  stock = yf.download(ticket, start=start_date.strftime('%Y-%m-%d'), end=end_date.strftime('%Y-%m-%d'))\n",
    "  return stock\n",
    "\n",
    "\n",
    "yahoo_finance_tool = Tool(\n",
    "  name='Yahoo Finance Tool',\n",
    "  description='Fetches stocks prices for {ticket} from the last about a specific company from the Yahoo Finance API',\n",
    "  func=lambda ticket: fetch_stock_price(ticket)\n",
    ")"
   ]
  },
  {
   "cell_type": "code",
   "execution_count": 18,
   "id": "05d5f7c5",
   "metadata": {},
   "outputs": [
    {
     "name": "stderr",
     "output_type": "stream",
     "text": [
      "2025-04-23 11:04:55,879 - 12160 - base.py-base:128 - ERROR: Failed to get ticker 'AAPL' reason: Expecting value: line 1 column 1 (char 0)\n"
     ]
    },
    {
     "name": "stderr",
     "output_type": "stream",
     "text": [
      "[*********************100%***********************]  1 of 1 completed\n",
      "2025-04-23 11:04:55,894 - 24172 - multi.py-multi:171 - ERROR: \n",
      "1 Failed download:\n",
      "2025-04-23 11:04:55,894 - 24172 - multi.py-multi:184 - ERROR: ['AAPL']: YFTzMissingError('$%ticker%: possibly delisted; no timezone found')\n"
     ]
    }
   ],
   "source": [
    "result = fetch_stock_price(\"AAPL\")"
   ]
  },
  {
   "cell_type": "code",
   "execution_count": 12,
   "id": "d84ab538",
   "metadata": {},
   "outputs": [
    {
     "data": {
      "text/html": [
       "<div>\n",
       "<style scoped>\n",
       "    .dataframe tbody tr th:only-of-type {\n",
       "        vertical-align: middle;\n",
       "    }\n",
       "\n",
       "    .dataframe tbody tr th {\n",
       "        vertical-align: top;\n",
       "    }\n",
       "\n",
       "    .dataframe thead th {\n",
       "        text-align: right;\n",
       "    }\n",
       "</style>\n",
       "<table border=\"1\" class=\"dataframe\">\n",
       "  <thead>\n",
       "    <tr style=\"text-align: right;\">\n",
       "      <th></th>\n",
       "      <th>Open</th>\n",
       "      <th>High</th>\n",
       "      <th>Low</th>\n",
       "      <th>Close</th>\n",
       "      <th>Adj Close</th>\n",
       "      <th>Volume</th>\n",
       "    </tr>\n",
       "    <tr>\n",
       "      <th>Date</th>\n",
       "      <th></th>\n",
       "      <th></th>\n",
       "      <th></th>\n",
       "      <th></th>\n",
       "      <th></th>\n",
       "      <th></th>\n",
       "    </tr>\n",
       "  </thead>\n",
       "  <tbody>\n",
       "  </tbody>\n",
       "</table>\n",
       "</div>"
      ],
      "text/plain": [
       "Empty DataFrame\n",
       "Columns: [Open, High, Low, Close, Adj Close, Volume]\n",
       "Index: []"
      ]
     },
     "execution_count": 12,
     "metadata": {},
     "output_type": "execute_result"
    }
   ],
   "source": [
    "result"
   ]
  },
  {
   "cell_type": "code",
   "execution_count": null,
   "id": "b47fc05a",
   "metadata": {},
   "outputs": [],
   "source": [
    "getStockPrice = Task(\n",
    "  description=\"Analyze the stock {ticket} price history and create a price trend analyses of up, down or sideways\",\n",
    "  expected_output=\"Specify the current trend stocks price - Up, down or sideway. eg. stock='AAPL, price UP'.\",\n",
    "  tools=[yahoo_finance_tool],\n",
    "  agent=stocketPriceAnalyst\n",
    ")"
   ]
  }
 ],
 "metadata": {
  "kernelspec": {
   "display_name": "ai-agents-crew-ai--UwK1Ags",
   "language": "python",
   "name": "python3"
  },
  "language_info": {
   "codemirror_mode": {
    "name": "ipython",
    "version": 3
   },
   "file_extension": ".py",
   "mimetype": "text/x-python",
   "name": "python",
   "nbconvert_exporter": "python",
   "pygments_lexer": "ipython3",
   "version": "3.12.1"
  }
 },
 "nbformat": 4,
 "nbformat_minor": 5
}
